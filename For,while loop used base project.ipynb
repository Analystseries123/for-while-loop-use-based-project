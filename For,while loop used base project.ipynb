{
 "cells": [
  {
   "cell_type": "code",
   "execution_count": 1,
   "id": "b09f0ab1",
   "metadata": {},
   "outputs": [],
   "source": [
    "# write a program in python to display the factorial of a number."
   ]
  },
  {
   "cell_type": "code",
   "execution_count": 2,
   "id": "d6c1a764",
   "metadata": {},
   "outputs": [
    {
     "name": "stdout",
     "output_type": "stream",
     "text": [
      "entr any number:5\n",
      "factorial of the number: 1\n",
      "factorial of the number: 2\n",
      "factorial of the number: 6\n",
      "factorial of the number: 24\n",
      "factorial of the number: 120\n"
     ]
    }
   ],
   "source": [
    "n=int(input(\"entr any number:\"))\n",
    "fact=1\n",
    "for i in range(1,n+1):\n",
    "    fact*=i\n",
    "    print(\"factorial of the number:\", fact)"
   ]
  },
  {
   "cell_type": "code",
   "execution_count": 3,
   "id": "a55c47c6",
   "metadata": {},
   "outputs": [],
   "source": [
    "# write a program in pthon to display the revere the word."
   ]
  },
  {
   "cell_type": "code",
   "execution_count": 4,
   "id": "9d726bd7",
   "metadata": {},
   "outputs": [
    {
     "name": "stdout",
     "output_type": "stream",
     "text": [
      "enter any string:python\n",
      "nohtyp\n"
     ]
    }
   ],
   "source": [
    "a=input(\"enter any string:\")\n",
    "reverse=a[::-1]\n",
    "print(reverse)"
   ]
  },
  {
   "cell_type": "code",
   "execution_count": 5,
   "id": "18db9011",
   "metadata": {},
   "outputs": [],
   "source": [
    "# write a program in python to display the reverse a number."
   ]
  },
  {
   "cell_type": "code",
   "execution_count": 6,
   "id": "48f31cd5",
   "metadata": {},
   "outputs": [
    {
     "name": "stdout",
     "output_type": "stream",
     "text": [
      "enter any number10\n",
      "reverse of 10 is: 0\n",
      "reverse of 10 is: 1\n"
     ]
    }
   ],
   "source": [
    "a=int(input(\"enter any number\"))\n",
    "reverse=0\n",
    "d=a\n",
    "while a>0:\n",
    "    digit=a%10\n",
    "    reverse=(reverse*10)+digit\n",
    "    a=a//10\n",
    "    print(\"reverse of\",d, \"is:\", reverse)"
   ]
  },
  {
   "cell_type": "code",
   "execution_count": 7,
   "id": "9c371b70",
   "metadata": {},
   "outputs": [],
   "source": [
    "# write a program in python to print n natural number in descending order useing a while loop."
   ]
  },
  {
   "cell_type": "code",
   "execution_count": 8,
   "id": "ce0a6df5",
   "metadata": {},
   "outputs": [
    {
     "name": "stdout",
     "output_type": "stream",
     "text": [
      "enter any natural number:10\n",
      "10987654321"
     ]
    }
   ],
   "source": [
    "n=int(input(\"enter any natural number:\"))\n",
    "count=n\n",
    "while count>0:\n",
    "    print(count,end=\"\")\n",
    "    count-=1"
   ]
  },
  {
   "cell_type": "code",
   "execution_count": 9,
   "id": "39da08c8",
   "metadata": {},
   "outputs": [],
   "source": [
    "# write a program in python to display the 7 multiply of 7."
   ]
  },
  {
   "cell_type": "code",
   "execution_count": 15,
   "id": "d6c90b45",
   "metadata": {},
   "outputs": [
    {
     "name": "stdout",
     "output_type": "stream",
     "text": [
      "enter any number7\n",
      "7\n",
      "14\n",
      "21\n",
      "28\n",
      "35\n",
      "42\n",
      "49\n"
     ]
    }
   ],
   "source": [
    "def display_multiples_of_7(n):\n",
    "    n=int(input(\"enter any number\"))\n",
    "    count=1\n",
    "    while count<=n:\n",
    "        print(7 * count)\n",
    "        count +=1\n",
    "        \n",
    "display_multiples_of_7(7)"
   ]
  },
  {
   "cell_type": "code",
   "execution_count": 16,
   "id": "3a4128f2",
   "metadata": {},
   "outputs": [],
   "source": [
    "#write a program in python That appends the square of each number to a new list."
   ]
  },
  {
   "cell_type": "code",
   "execution_count": 17,
   "id": "46d7a23b",
   "metadata": {},
   "outputs": [
    {
     "name": "stdout",
     "output_type": "stream",
     "text": [
      "original numbers: [2, 3, 4, 5]\n",
      "squares of number: None\n"
     ]
    }
   ],
   "source": [
    "def square_of_numbers(numbers):\n",
    "    squares=[]\n",
    "    for n in numbers:\n",
    "        squares.append(n**2)\n",
    "n=[2,3,4,5]\n",
    "squares=square_of_numbers(n)\n",
    "print(\"original numbers:\",n)\n",
    "print(\"squares of number:\", squares)\n"
   ]
  },
  {
   "cell_type": "code",
   "execution_count": 18,
   "id": "5fcb9669",
   "metadata": {},
   "outputs": [],
   "source": [
    "# write a program in python To separate positive and negative number from a list."
   ]
  },
  {
   "cell_type": "code",
   "execution_count": 19,
   "id": "a2c108b0",
   "metadata": {},
   "outputs": [
    {
     "name": "stdout",
     "output_type": "stream",
     "text": [
      "Positive numbers: [1, 3, 5]\n",
      "Negative numbers: [-2, -4, -6]\n"
     ]
    }
   ],
   "source": [
    "def separate_positive_negative(lst):\n",
    "    positive_num = []\n",
    "    negative_num = []\n",
    "    for num in lst:\n",
    "        if num >= 0:\n",
    "            positive_num.append(num)\n",
    "        else:\n",
    "            negative_num.append(num)\n",
    "    return positive_num, negative_num\n",
    "\n",
    "numbers = [1, -2, 3, -4, 5, -6]\n",
    "positive, negative = separate_positive_negative(numbers)\n",
    "print(\"Positive numbers:\", positive)\n",
    "print(\"Negative numbers:\", negative)\n"
   ]
  },
  {
   "cell_type": "code",
   "execution_count": 20,
   "id": "b49ced89",
   "metadata": {},
   "outputs": [],
   "source": [
    "# write a program in python that appends the type of elements from a list."
   ]
  },
  {
   "cell_type": "code",
   "execution_count": 21,
   "id": "106421ca",
   "metadata": {},
   "outputs": [
    {
     "name": "stdout",
     "output_type": "stream",
     "text": [
      "Elements of the numbers: [1, 2, 3, 4, 5, 6]\n"
     ]
    }
   ],
   "source": [
    "def element_of_number(lst):\n",
    "    elements = []\n",
    "    for number in lst:  \n",
    "        elements.append(number)\n",
    "    return elements\n",
    "\n",
    "numbers = [1, 2, 3, 4, 5, 6]\n",
    "elements = element_of_number(numbers)\n",
    "print(\"Elements of the numbers:\", elements)"
   ]
  },
  {
   "cell_type": "code",
   "execution_count": 22,
   "id": "e1165280",
   "metadata": {},
   "outputs": [],
   "source": [
    "#write a program in python To filter even and odd number from a list."
   ]
  },
  {
   "cell_type": "code",
   "execution_count": 23,
   "id": "6af7dd46",
   "metadata": {},
   "outputs": [
    {
     "name": "stdout",
     "output_type": "stream",
     "text": [
      "[1, 2, 3]\n",
      "[4, 5, 6]\n",
      "Even count: 2\n",
      "Odd count: 1\n"
     ]
    }
   ],
   "source": [
    "def swap(a):\n",
    "    n = len(a) // 2\n",
    "    b1 = a[:n]\n",
    "    b2 = a[n:]\n",
    "    print(b1)\n",
    "    print(b2)\n",
    "    even = 0\n",
    "    odd = 0\n",
    "    for i in range(n):\n",
    "        if i % 2 == 0:\n",
    "            even += 1\n",
    "        else:\n",
    "            odd += 1\n",
    "    return even, odd\n",
    "\n",
    "a = [1, 2, 3, 4, 5, 6]\n",
    "even, odd = swap(a)\n",
    "print(\"Even count:\", even)\n",
    "print(\"Odd count:\", odd)\n"
   ]
  },
  {
   "cell_type": "code",
   "execution_count": null,
   "id": "73ea7e7a",
   "metadata": {},
   "outputs": [],
   "source": []
  }
 ],
 "metadata": {
  "kernelspec": {
   "display_name": "Python 3 (ipykernel)",
   "language": "python",
   "name": "python3"
  },
  "language_info": {
   "codemirror_mode": {
    "name": "ipython",
    "version": 3
   },
   "file_extension": ".py",
   "mimetype": "text/x-python",
   "name": "python",
   "nbconvert_exporter": "python",
   "pygments_lexer": "ipython3",
   "version": "3.11.7"
  }
 },
 "nbformat": 4,
 "nbformat_minor": 5
}
